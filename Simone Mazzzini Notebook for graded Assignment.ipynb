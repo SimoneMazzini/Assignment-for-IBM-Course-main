{
 "cells": [
  {
   "cell_type": "markdown",
   "id": "46dc9bfb",
   "metadata": {},
   "source": [
    "<h1>My Jupyter Notebook on IBM Watson Studio<h1>"
   ]
  },
  {
   "cell_type": "markdown",
   "id": "b70f3642",
   "metadata": {},
   "source": [
    "<b> Simone Mazzini </b>"
   ]
  },
  {
   "cell_type": "markdown",
   "id": "43ee5aad",
   "metadata": {},
   "source": [
    "<i> Hedge Funds Manager </i>"
   ]
  },
  {
   "cell_type": "markdown",
   "id": "49ae58ca",
   "metadata": {},
   "source": [
    "<i> \"I am interested in data science because computers are here to stay for the rest of my career. \n",
    " I also love manipulating data\" </i>"
   ]
  },
  {
   "cell_type": "markdown",
   "id": "09646426",
   "metadata": {},
   "source": [
    "<h3>Calculating some simple arithmetics<h3>"
   ]
  },
  {
   "cell_type": "code",
   "execution_count": 4,
   "id": "5b42aeb4",
   "metadata": {},
   "outputs": [
    {
     "data": {
      "text/plain": [
       "-1"
      ]
     },
     "execution_count": 4,
     "metadata": {},
     "output_type": "execute_result"
    }
   ],
   "source": [
    "Five = 5\n",
    "Six = 6\n",
    "Five-Six"
   ]
  },
  {
   "cell_type": "markdown",
   "id": "81e58f32",
   "metadata": {},
   "source": [
    "<i> list of goods in order <i/>:\n",
    "\n",
    "<ol>\n",
    "<li>laptop</li>\n",
    "<li>Mouse</li>\n",
    "<li>Tablette</li>\n",
    "</ol>\n",
    "    \n",
    "<i> list of ingrediant in random order </i>:\n",
    "<ul>\n",
    "<li>Honey</li>\n",
    "<li>Sugar</li>\n",
    "<li>Butter</li>\n",
    "</ul>"
   ]
  },
  {
   "cell_type": "code",
   "execution_count": null,
   "id": "77ebb6c0",
   "metadata": {},
   "outputs": [],
   "source": []
  }
 ],
 "metadata": {
  "kernelspec": {
   "display_name": "Python 3 (ipykernel)",
   "language": "python",
   "name": "python3"
  },
  "language_info": {
   "codemirror_mode": {
    "name": "ipython",
    "version": 3
   },
   "file_extension": ".py",
   "mimetype": "text/x-python",
   "name": "python",
   "nbconvert_exporter": "python",
   "pygments_lexer": "ipython3",
   "version": "3.9.12"
  }
 },
 "nbformat": 4,
 "nbformat_minor": 5
}
